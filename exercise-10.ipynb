{
  "cells": [
    {
      "cell_type": "markdown",
      "metadata": {
        "id": "view-in-github",
        "colab_type": "text"
      },
      "source": [
        "<a href=\"https://colab.research.google.com/github/madlab-biosig/exercise-10-template/blob/main/exercise-10.ipynb\" target=\"_parent\"><img src=\"https://colab.research.google.com/assets/colab-badge.svg\" alt=\"Open In Colab\"/></a>"
      ]
    },
    {
      "cell_type": "markdown",
      "metadata": {
        "id": "9w5mH7cP0J9E"
      },
      "source": [
        "<div class=\"alert-block alert-info alert\"> Hello! If this is your first assignment please read the following instructions:\n",
        "\n",
        "Read the questions carefully and code what is asked in the respective code block whenever you see a ``` #TODO: YOUR CODE HERE. ```\n",
        "It is important to do the Coding tasks IN ORDER, as the majority of coding blocks are dependent on the\n",
        "previous coding blocks in the notebook.\n",
        "Please also note that there is a **raise NotImplementedError()** for each task or function you have to\n",
        "implement, so don't forget to remove it before testing your code, otherwise you will always get a \"not\n",
        "implemented\" error.\n",
        "\n",
        "You need to manually upload the data used in this exercise to Colab. Just create a folder 'data' and paste the respective files into this folder. Otherwise, you will get a 'File not found' error. You can find the data in StudOn.\n",
        "\n",
        "Aside from coding blocks, there are also testing blocks to check whether your implementations\n",
        "are correct, you can run them but do not change the code inside of them.\n",
        "The tests are determined via the ASSERT STATEMENTS that you see on the testing blocks, which can help you\n",
        "out during the coding of the exercises. If you pass all the visible asserts, you will probably get a good\n",
        "grade on the exercise, just remember that there are also hidden tests, so hardcoding the assert statements\n",
        "won't help you.\n",
        "\n",
        "REMEMBER: This Colab notebook DOES NOT HAVE AN AUTOSAVE FUNCTION, so whenever you want to close it, please\n",
        "remember to save it by clicking on the \"file\" tab in the upper left corner of the page, followed by\n",
        "clicking on the \"Save a copy to GitHub\" button and selecting your corresponding GitHub repository:\n",
        "\"madlab-biosig/exercise-x-YourGitHubUsername\"\n",
        "\n",
        "Before you save the final version of your assignment, please make sure everything runs as expected.\n",
        "First, **restart the kernel** (in the menubar, select Kernel$\\rightarrow$Restart) and then **run all\n",
        "cells** (in the menubar, select Cell$\\rightarrow$Run All).\n",
        "</div>"
      ]
    },
    {
      "cell_type": "markdown",
      "metadata": {
        "deletable": false,
        "editable": false,
        "nbgrader": {
          "cell_type": "markdown",
          "checksum": "d12d0f0a255c7cd31b70de5a6c1f4407",
          "grade": false,
          "grade_id": "cell-aca1a6196494bdda",
          "locked": true,
          "schema_version": 3,
          "solution": false,
          "task": false
        },
        "tags": [],
        "id": "D3XlWisr0J9G"
      },
      "source": [
        "### BioSig Exercises WS 23/24\n",
        "---"
      ]
    },
    {
      "cell_type": "markdown",
      "metadata": {
        "id": "pxIFLwy_0J9G"
      },
      "source": [
        "# Exercise 10"
      ]
    },
    {
      "cell_type": "code",
      "execution_count": null,
      "metadata": {
        "is_executing": true,
        "id": "6Zjgl2qo0J9G"
      },
      "outputs": [],
      "source": [
        "# Imports and basic setup\n",
        "### UNCOMMENT THE CORRECT ONE\n",
        "# If you are using Jupyter Lab\n",
        "#%matplotlib widget\n",
        "\n",
        "# If you are using Jupyter Notebook\n",
        "# %matplotlib notebook\n",
        "\n",
        "import matplotlib.pyplot as plt\n",
        "plt.rcParams.update({'figure.max_open_warning': 40})\n",
        "import pandas as pd\n",
        "import numpy as np\n",
        "from pathlib import Path\n",
        "from scipy import signal"
      ]
    },
    {
      "cell_type": "markdown",
      "metadata": {
        "id": "7oU-rCWC0J9G"
      },
      "source": [
        "## Ex 10.1: Pan-Tompkins 2 - Combining the filters and correcting shifts\n",
        "In last exercise we implemented all filter stages of the Pan-Tompkins algorithm.\n",
        "Now we want to combine them to easily apply the algorithm to multiple signals.\n",
        "\n",
        "a) Create a function that applies all filter stages of the Pan Tompkins one after the other.\n",
        "\n",
        "b) Look at the lecture (or the paper from Pan and Tompkins) and look up the delay of each individual filter stage.\n",
        "Implement a correction for this shift into your filter function. Verify the result using one of the example data files.\n",
        "\n",
        "Note, that the Pan-Tompkins Algorithm does **not** correct the group-delay of the final MA-filter (half the window size).\n",
        "It is implicitly considered in the way the output is interpreted."
      ]
    },
    {
      "cell_type": "markdown",
      "metadata": {
        "id": "BSPcxesG0J9G"
      },
      "source": [
        "### Hint:\n",
        "\n",
        "b) From the paper we learn the following values:\n",
        "\n",
        "| Filter    | Delay      |\n",
        "|:----------|:-----------|\n",
        "| Lowpass   | __ samples |\n",
        "| Highpass  | __ samples |\n",
        "| Derivative| __ samples |\n",
        "| Overall   | __ samples |\n",
        "\n",
        "\n",
        "\n"
      ]
    },
    {
      "cell_type": "code",
      "execution_count": null,
      "metadata": {
        "ExecuteTime": {
          "end_time": "2023-08-15T11:54:27.915029900Z",
          "start_time": "2023-08-15T11:54:27.899191300Z"
        },
        "deletable": false,
        "nbgrader": {
          "cell_type": "code",
          "checksum": "9820657d8fb7a7346ae8c105abb06b57",
          "grade": false,
          "grade_id": "Pan-Tompkins",
          "locked": false,
          "schema_version": 3,
          "solution": true,
          "task": false
        },
        "tags": [],
        "id": "lKG_4-vh0J9H"
      },
      "outputs": [],
      "source": [
        "#a) Pan-Tompkins filtering steps\n",
        "\n",
        "def lowpass_filter(ecg_signal):\n",
        "    # YOUR CODE HERE\n",
        "    raise NotImplementedError()\n",
        "    return ecg_signal\n",
        "\n",
        "def highpass_filter(ecg_signal):\n",
        "     # TODO: YOUR CODE HERE\n",
        "    # YOUR CODE HERE\n",
        "    raise NotImplementedError()\n",
        "    return ecg_signal\n",
        "\n",
        "def derivative_operator(ecg_signal):\n",
        "    # TODO: YOUR CODE HERE\n",
        "    # YOUR CODE HERE\n",
        "    raise NotImplementedError()\n",
        "    return(ecg_signal)\n",
        "\n",
        "def squaring(ecg_signal):\n",
        "    # TODO: YOUR CODE HERE\n",
        "    # YOUR CODE HERE\n",
        "    raise NotImplementedError()\n",
        "    return(ecg_signal)\n",
        "\n",
        "def moving_window_integrator(ecg_signal):\n",
        "    # TODO: YOUR CODE HERE\n",
        "    # YOUR CODE HERE\n",
        "    raise NotImplementedError()\n",
        "    return(ecg_signal)\n",
        "\n",
        "#b) Calculate Group delay correction\n",
        "def group_delay_correction(ecg_signal):\n",
        "    # Correct the group delay by removing the correct amount of samples from the beginning of the output\n",
        "    # Pad the same number of zeros at the end to keep the length identical\n",
        "    # TODO: YOUR CODE HERE\n",
        "    # YOUR CODE HERE\n",
        "    raise NotImplementedError()\n",
        "    return(ecg_signal)\n",
        "\n",
        "#Pan Tompkins function\n",
        "#DO NOT EDIT, it is meant to work with your code from all the other previous functions\n",
        "def pan_tompkins(ecg_signal):\n",
        "    # Filter the signal (200 Hz) with all filter stages of the pan-tompkins.\n",
        "    # Take the filter parameter we calculated in the last exercise\n",
        "\n",
        "    SAMPLING_RATE = 200.  # Hz\n",
        "\n",
        "    # All Pan Tompkins steps based on previous functions\n",
        "    ecg_signal = lowpass_filter(ecg_signal)\n",
        "\n",
        "    ecg_signal = highpass_filter(ecg_signal)\n",
        "    ecg_signal = derivative_operator(ecg_signal)\n",
        "    ecg_signal = squaring(ecg_signal)\n",
        "    ecg_signal = moving_window_integrator(ecg_signal)\n",
        "    ecg_signal = group_delay_correction(ecg_signal)\n",
        "\n",
        "    return ecg_signal"
      ]
    },
    {
      "cell_type": "code",
      "execution_count": null,
      "metadata": {
        "ExecuteTime": {
          "end_time": "2023-08-15T11:54:27.943030200Z",
          "start_time": "2023-08-15T11:54:27.915029900Z"
        },
        "tags": [],
        "id": "ljf4zRb00J9H"
      },
      "outputs": [],
      "source": [
        "def load_data_file(path):\n",
        "    \"\"\"Load an example ecg file.\n",
        "\n",
        "    Args:\n",
        "        path: Path to the example .csv file\n",
        "\n",
        "    Returns:\n",
        "        time-array in seconds\n",
        "        ecg signal\n",
        "    \"\"\"\n",
        "    orig_sampling_rate = 256.  # Hz\n",
        "    pan_sampling_rate = 200.  # Hz\n",
        "    ecg = pd.read_csv(path, header=1, skiprows=0, index_col='timestamp')['ecg']\n",
        "\n",
        "    # resample the data to 200 Hz for the algorithms\n",
        "    ecg = pd.Series(signal.resample(ecg, int(len(ecg) * pan_sampling_rate/orig_sampling_rate)))\n",
        "\n",
        "    # Cut the first 5 seconds to avoid artifacts in this region\n",
        "    ecg = ecg.iloc[int(5*pan_sampling_rate):].reset_index(drop=True)\n",
        "\n",
        "    ecg.index /= pan_sampling_rate\n",
        "\n",
        "    return ecg.index.values, ecg.values"
      ]
    },
    {
      "cell_type": "code",
      "execution_count": null,
      "metadata": {
        "ExecuteTime": {
          "end_time": "2023-08-15T11:54:28.331048Z",
          "start_time": "2023-08-15T11:54:27.943030200Z"
        },
        "deletable": false,
        "editable": false,
        "nbgrader": {
          "cell_type": "code",
          "checksum": "de1052ec7a612fc96a95a33b6c1d3bde",
          "grade": true,
          "grade_id": "Pan-Tompkins-Tests",
          "locked": true,
          "points": 8,
          "schema_version": 3,
          "solution": false,
          "task": false
        },
        "tags": [],
        "id": "SLJHkOBl0J9H"
      },
      "outputs": [],
      "source": [
        "################## RUN THIS BLOCK TO CHECK YOUR PAN-TOMPKINS IMPLEMENTATION ##################\n",
        "##~DO NOT MODIFY THE LINES OF CODE IN THIS BLOCK\n",
        "\n",
        "### BEGIN TESTS\n",
        "########## Test your lowpass filter\n",
        "assert np.array_equal([1.46875, 3.6875, 8.125],lowpass_filter([47,24,71])),f\"Your lowpass filter is not working correctly\"\n",
        "assert np.array_equal([0.03125,0.125,0.3125,0.625, 1.09375, 1.75, 2.71875],lowpass_filter([1,2,3,4,5,6,12])),f\"Your lowpass filter is not working correctly\"\n",
        "\n",
        "########## Test your highpass filter\n",
        "assert np.array_equal([-1.46875,-2.21875,-4.4375],highpass_filter([47,24,71])),f\"Your highpass filter is not working correctly\"\n",
        "assert np.array_equal([-0.03125,-0.09375,-0.1875,-0.3125,-0.46875,-0.65625,-1.03125],highpass_filter([1,2,3,4,5,6,12])),f\"Your highpass filter is not working correctly\"\n",
        "\n",
        "########## Test your derivative operator\n",
        "assert np.array_equal([11.75,11.875,20.75],derivative_operator([47,24,71])),f\"Your derivative operator is not working correctly\"\n",
        "assert np.array_equal([0.25,0.625,1.,1.25,1.25,1.25,2.5 ],derivative_operator([1,2,3,4,5,6,12])),f\"Your derivative operator is not working correctly\"\n",
        "\n",
        "########## Test your squaring operator\n",
        "assert np.array_equal(np.array([2209,576,5041]),squaring(np.array([47,24,71]))),f\"Your squaring is not working correctly\"\n",
        "assert np.array_equal(np.array([1,4,9,16,25,36,144]),squaring(np.array([1,2,3,4,5,6,12]))),f\"Your squaring is not working correctly\"\n",
        "\n",
        "########## Test your moving window operator\n",
        "assert np.array_equal(np.around([1.56666667,2.36666667,4.73333333],decimals=3),np.around(moving_window_integrator([47,24,71]),decimals=3)),f\"Your moving window operator is not working correctly\"\n",
        "assert np.array_equal(np.around([0.03333333,0.1,0.2,0.33333333,0.5,0.7,1.1],decimals=3),np.around(moving_window_integrator([1,2,3,4,5,6,12]),decimals=3)),f\"Your moving window operator is not working correctly\"\n",
        "\n",
        "########## Test your group delay correction\n",
        "padtest = np.ones(50)\n",
        "padtest[0:10] = np.zeros(10)\n",
        "assert np.sum(group_delay_correction(padtest)) ==26, f\"Your ecg signal has not been corrected properly (check the delay number).\"\n",
        "assert np.sum(group_delay_correction(padtest[-24:])) ==0, f\"Your ecg signal has not been correctly zero-padded at the end (check the delay number).\"\n",
        "\n",
        "### END TESTS\n",
        "\n",
        "print(\"\\t\\t Pan Tompkins implementation is working correctly :) \\n\")"
      ]
    },
    {
      "cell_type": "code",
      "execution_count": null,
      "metadata": {
        "ExecuteTime": {
          "end_time": "2023-08-15T11:54:28.563270100Z",
          "start_time": "2023-08-15T11:54:28.335056200Z"
        },
        "tags": [],
        "id": "1e4yl7v00J9H"
      },
      "outputs": [],
      "source": [
        "\n",
        "\n",
        "# Use the following code to plot the results of your Pan tompkins algorythm\n",
        "path = Path('./data/NilsPodX-9433_20191111_1039.csv')\n",
        "test_time, test_signal = load_data_file(path)\n",
        "filtered_signal = pan_tompkins(test_signal)\n",
        "\n",
        "plt.figure(figsize=(15, 5))\n",
        "plot_region = slice(100*200, 105*200)\n",
        "plt.plot(test_time[plot_region], test_signal[plot_region]/test_signal[plot_region].max(), label='original data')\n",
        "plt.plot(test_time[plot_region], filtered_signal[plot_region]/filtered_signal[plot_region].max(), label='ECG signal after filter')\n",
        "plt.title('data after Pan Tompkins')\n",
        "plt.xlabel('time [s]')\n",
        "plt.legend();\n"
      ]
    },
    {
      "cell_type": "markdown",
      "metadata": {
        "id": "Dgi3Dypk0J9H"
      },
      "source": [
        "## Ex 10.2: Pan-Tompkins 3 - Search strategy\n",
        "\n",
        "After the signal is filtered, the Pan-Tomkins algorithm uses multiple adaptable thresholds to detect the now visible QRS-equivalent blocks.\n",
        "For the sake of simplicity, we will use simple peak detection instead:\n",
        "\n",
        "a) Have a look at multiple example files and decide on a suitable threshold that should include ideally all QRS-equivalent blocks.\n",
        "\n",
        "b) Based on your knowledge of the physiological heart-rate of a human, calculate a lower limit for the peak-to-peak distance of two neighboring heartbeats.\n",
        "\n",
        "c) Use scipy’s `find_peaks` function with both thresholds to detect QRS-Complexes. Validate your results at least on one additional dataset, you did not look at before."
      ]
    },
    {
      "cell_type": "code",
      "execution_count": null,
      "metadata": {
        "ExecuteTime": {
          "end_time": "2023-08-15T11:54:28.621223900Z",
          "start_time": "2023-08-15T11:54:28.571153300Z"
        },
        "deletable": false,
        "nbgrader": {
          "cell_type": "code",
          "checksum": "e66b4d288615fd6cb7b8f0a39513a45f",
          "grade": false,
          "grade_id": "Find-peaks",
          "locked": false,
          "schema_version": 3,
          "solution": true,
          "task": false
        },
        "tags": [],
        "id": "50Thg7Wj0J9I"
      },
      "outputs": [],
      "source": [
        "#Find peaks function and thresholding\n",
        "def find_r_peaks(pan_tom_out):\n",
        "    # Create a function that finds the indivdual QRS-complexe in the output of the Pan Tompkins\n",
        "    # YOUR CODE HERE\n",
        "    raise NotImplementedError()\n",
        "    return peaks\n",
        "\n",
        "# Test your function by plotting the results together with the raw pan tompkins output.\n",
        "# Check if the peaks on the graph are detected correctly\n",
        "\n",
        "r_peaks = find_r_peaks(filtered_signal[plot_region])\n",
        "\n",
        "plt.figure()\n",
        "plt.plot(test_time[plot_region], filtered_signal[plot_region])\n",
        "plt.plot(test_time[plot_region.start + r_peaks], filtered_signal[plot_region.start + r_peaks], 's')\n",
        "plt.xlabel('time [s]');\n"
      ]
    },
    {
      "cell_type": "code",
      "execution_count": null,
      "metadata": {
        "ExecuteTime": {
          "end_time": "2023-08-15T11:54:28.782670200Z",
          "start_time": "2023-08-15T11:54:28.617233Z"
        },
        "deletable": false,
        "editable": false,
        "nbgrader": {
          "cell_type": "code",
          "checksum": "68434b48586aca769487c64979518da7",
          "grade": true,
          "grade_id": "Find-peaks-Tests",
          "locked": true,
          "points": 4,
          "schema_version": 3,
          "solution": false,
          "task": false
        },
        "tags": [],
        "id": "0s1OAdZL0J9I"
      },
      "outputs": [],
      "source": [
        "##### THIS BLOCK HAS AUTOMATED GRADING PURPOSES, LEAVE IT AS IT IS\n"
      ]
    },
    {
      "cell_type": "markdown",
      "metadata": {
        "id": "DvAgxpZ90J9I"
      },
      "source": [
        "## Ex 10.3: Pan-Tompkins - Application 1: Heart rate\n",
        "\n",
        "With all QRS complexes detected we can directly calculate the heart rate.\n",
        "\n",
        "a) Calculate the heart-rate based on the R-R distances calculated in the previous step. Do **not** calculate the average heart-rate, but one value per R-R-Interval."
      ]
    },
    {
      "cell_type": "code",
      "execution_count": null,
      "metadata": {
        "ExecuteTime": {
          "end_time": "2023-08-15T11:54:30.498683800Z",
          "start_time": "2023-08-15T11:54:30.482142100Z"
        },
        "deletable": false,
        "nbgrader": {
          "cell_type": "code",
          "checksum": "bd27d48055e670c13cfe4f48bd191788",
          "grade": false,
          "grade_id": "Heartrate-Calc",
          "locked": false,
          "schema_version": 3,
          "solution": true,
          "task": false
        },
        "tags": [],
        "id": "QWLnsVIb0J9I"
      },
      "outputs": [],
      "source": [
        "# Create a function that can calculate the heartrate based on the series of detected heartrates\n",
        "def freq_from_peaks(peaks, sampling_rate):\n",
        "    \"\"\"Calculate the bpm frequency of events based on a list of occurrences.\n",
        "\n",
        "    Args:\n",
        "        peaks: list of indices at which the event occurs\n",
        "        sampling_rate: sampling rate of the signal to transform the frequency to Hz\n",
        "\n",
        "    Returns:\n",
        "        All frequencies of events from the distances between the peaks in beats per minute (e.g. heartrate)\n",
        "    \"\"\"\n",
        "    peaks = peaks.astype(float) # This prevents errors in the following lines\n",
        "    # YOUR CODE HERE\n",
        "    raise NotImplementedError()\n",
        "    return freq"
      ]
    },
    {
      "cell_type": "code",
      "execution_count": null,
      "metadata": {
        "ExecuteTime": {
          "end_time": "2023-08-15T11:54:31.801352800Z",
          "start_time": "2023-08-15T11:54:31.639117600Z"
        },
        "deletable": false,
        "editable": false,
        "nbgrader": {
          "cell_type": "code",
          "checksum": "c47a5a7df85858eb4cd9564933e71ec6",
          "grade": true,
          "grade_id": "Heartrate-Calc-Tests",
          "locked": true,
          "points": 4,
          "schema_version": 3,
          "solution": false,
          "task": false
        },
        "tags": [],
        "id": "ZsKzCKiX0J9I"
      },
      "outputs": [],
      "source": [
        "##~DO NOT MODIFY THE LINES OF CODE IN THIS BLOCK\n",
        "# Use the following lines of code to test and plot your heartrate function\n",
        "\n",
        "### BEGIN TESTS\n",
        "test_peaks = np.ones(700)\n",
        "test_peaks[2] = 100000\n",
        "test_peaks[155] = 100000\n",
        "test_peaks[278] = 100000\n",
        "test_peaks[402] = 100000\n",
        "test_peaks[512] = 100000\n",
        "test_peaks[645] = 100000\n",
        "test_peaks = find_r_peaks(test_peaks)\n",
        "\n",
        "assert np.array_equal(np.trunc(freq_from_peaks(test_peaks, 200)),[78, 97,  96, 109, 90]),f\"Your freq_from_peaks function is not working properly\"\n",
        "assert np.array_equal(np.trunc(freq_from_peaks(test_peaks, 45)),[17, 21, 21, 24, 20]),f\"Your freq_from_peaks function is not working properly\"\n",
        "\n",
        "### END TESTS\n",
        "\n",
        "\n",
        "\n",
        "r_peaks = find_r_peaks(filtered_signal)\n",
        "\n",
        "heartrate = freq_from_peaks(r_peaks, 200)\n",
        "\n",
        "plt.figure()\n",
        "plt.plot(test_time[r_peaks[1:]], heartrate)\n",
        "plt.xlabel('time [s]')\n",
        "plt.ylabel('heart-rate [bpm]');\n",
        "\n",
        "\n",
        "\n"
      ]
    },
    {
      "cell_type": "markdown",
      "metadata": {
        "id": "S-UxM4bI0J9I"
      },
      "source": [
        "## Ex 10.4: Cold Face Test\n",
        "\n",
        "The provided data are actually ECG recording of subjects undergoing a *cold face test*.\n",
        "During the test, a cold face mask is applied to the participants face.\n",
        "This triggers the so called “Diving Reflex”, which is usually associated with a reduction in heart rate.\n",
        "This test can if the parasympathetic nervous system of the subject works as expected.\n",
        "\n",
        "If you are interested in more information about the cold face test and the diving reflex have a look [here](https://en.wikipedia.org/wiki/Diving_reflex).\n",
        "\n",
        "a) Create a function that extracts the Cold face test start time for all subjects from the file `./data/cft.csv`.\n",
        "\n",
        "Note, that the function `load_data_file` removes the first 5 seconds of the signal.\n",
        "Take this into account here, so that we can find the correct region in the signal later.\n",
        "\n",
        "b) For the test subject used in the previous exercise (First recording in the cft file) extract the heart-rate in the region from 30 seconds before until 1 min after the cold face test. Calculate the mean heart-rate in the 30 seconds before, during and the 40 seconds after the test.\n",
        "\n",
        "c) Set up a pipeline to perform all above calculations for all other recordings.\n",
        "\n",
        "d) Visualize and comment the box plots representing the distribution of relative heart-rates in each of the 3 phases."
      ]
    },
    {
      "cell_type": "code",
      "execution_count": null,
      "metadata": {
        "ExecuteTime": {
          "end_time": "2023-08-15T11:54:34.848190200Z",
          "start_time": "2023-08-15T11:54:34.819470900Z"
        },
        "deletable": false,
        "nbgrader": {
          "cell_type": "code",
          "checksum": "63a8bc4f07ca90346d3cef79d5a09c86",
          "grade": false,
          "grade_id": "cft-read",
          "locked": false,
          "schema_version": 3,
          "solution": true,
          "task": false
        },
        "tags": [],
        "id": "DO2Nh97S0J9I"
      },
      "outputs": [],
      "source": [
        "#a) Load the file ./data/cft.csv and extract the row corresponding to the recording you are working with\n",
        "def read_cft_start(path):\n",
        "    \"\"\"Extract the cft start time for all subjects\n",
        "    DO NOT CHANGE THE ORDER GIVEN IN cft.csv, IT IS IMPORTANT FOR GRADING PURPOSES\n",
        "\n",
        "    Args:\n",
        "        path: The path to the subject-specific file\n",
        "\n",
        "    Returns:\n",
        "        cft_start_subject: The start time for the cft test of all the test subjects in an array/list\n",
        "    \"\"\"\n",
        "    # YOUR CODE HERE\n",
        "    raise NotImplementedError()\n",
        "    return cft_start_subject\n"
      ]
    },
    {
      "cell_type": "code",
      "execution_count": null,
      "metadata": {
        "ExecuteTime": {
          "end_time": "2023-08-15T11:54:37.035375400Z",
          "start_time": "2023-08-15T11:54:37.003803900Z"
        },
        "deletable": false,
        "editable": false,
        "nbgrader": {
          "cell_type": "code",
          "checksum": "ee27e4e6d78d374b6348c063736f2450",
          "grade": true,
          "grade_id": "cft-read-test",
          "locked": true,
          "points": 2,
          "schema_version": 3,
          "solution": false,
          "task": false
        },
        "tags": [],
        "id": "xb_7oqFO0J9I"
      },
      "outputs": [],
      "source": [
        "##~DO NOT MODIFY THE LINES OF CODE IN THIS BLOCK\n",
        "#Test your read_cft_start function implementation\n",
        "\n",
        "\n",
        "### BEGIN TESTS\n",
        "cftpath = './data/cft.csv'\n",
        "cft_start_subject = read_cft_start(cftpath)\n",
        "print(cft_start_subject)\n",
        "\n",
        "assert not cft_start_subject[1]==180,f\"Your function is not working properly, you probably forgot to substract 5 seconds from the start time\"\n",
        "assert cft_start_subject[3]==235,f\"Your function is not working properly\"\n",
        "assert cft_start_subject[5]==165,f\"Your function is not working properly\"\n",
        "### END TESTS\n",
        "\n",
        "print(\"\\n\\t\\t\\t\\t All tests Complete :) \\n\")"
      ]
    },
    {
      "cell_type": "code",
      "execution_count": null,
      "metadata": {
        "ExecuteTime": {
          "end_time": "2023-08-15T11:54:59.471945400Z",
          "start_time": "2023-08-15T11:54:59.401756200Z"
        },
        "deletable": false,
        "nbgrader": {
          "cell_type": "code",
          "checksum": "f0b2ea951b6ee626fe082e538c90a910",
          "grade": false,
          "grade_id": "cft-heartrate",
          "locked": false,
          "schema_version": 3,
          "solution": true,
          "task": false
        },
        "tags": [],
        "id": "odR9i8qm0J9I"
      },
      "outputs": [],
      "source": [
        "# b) Create a function that extracts the 3 relevant regions from the detected r-Peaks\n",
        "# calculates the heartrate for each region and takes the average over them\n",
        "\n",
        "def extract_cft_heart_rates(r_peaks, sampling_rate, cft_start):\n",
        "    \"\"\"Extract the heartrates around the cold face test.\n",
        "\n",
        "    Args:\n",
        "        r_peaks: series of r peaks detected in the signal\n",
        "        sampling_rate: The sampling rate of the recording (Hz)\n",
        "        cft_start: The start of the cold face test in seconds\n",
        "\n",
        "    Returns:\n",
        "        average heart-rates for the following regions:\n",
        "        -30 to cft_start, cft_start to cft_end (cft_start+60), cft_end to cft_end + 40\n",
        "    \"\"\"\n",
        "    # YOUR CODE HERE\n",
        "    raise NotImplementedError()\n",
        "    return mean_heart_rates\n",
        "\n",
        "\n"
      ]
    },
    {
      "cell_type": "code",
      "execution_count": null,
      "metadata": {
        "ExecuteTime": {
          "end_time": "2023-08-15T11:55:01.036183900Z",
          "start_time": "2023-08-15T11:55:00.627329100Z"
        },
        "deletable": false,
        "editable": false,
        "nbgrader": {
          "cell_type": "code",
          "checksum": "d0fb2e45c55c7b74d5b2c26a3f4555a9",
          "grade": true,
          "grade_id": "cft-heartrate-test",
          "locked": true,
          "points": 6,
          "schema_version": 3,
          "solution": false,
          "task": false
        },
        "tags": [],
        "id": "Qv87DWsH0J9I"
      },
      "outputs": [],
      "source": [
        "##~DO NOT MODIFY THE LINES OF CODE IN THIS BLOCK\n",
        "# Test your extract_cft_heart_rates function\n",
        "heart_rates = extract_cft_heart_rates(r_peaks, 200, cft_start_subject[0])\n",
        "print(heart_rates)\n",
        "\n",
        "### BEGIN TESTS\n",
        "#Test your outputs\n",
        "assert np.array_equal([78,86,76],np.trunc(extract_cft_heart_rates(r_peaks, 200, cft_start_subject[1]))),f\"Your calculated heartrates do not match the required results\"\n",
        "\n",
        "assert np.array_equal([84,85,77],np.trunc(extract_cft_heart_rates(r_peaks, 200, cft_start_subject[5]))),f\"Your calculated heartrates do not match the required results\"\n",
        "\n",
        "### END TESTS\n",
        "\n"
      ]
    },
    {
      "cell_type": "code",
      "execution_count": null,
      "metadata": {
        "deletable": false,
        "nbgrader": {
          "cell_type": "code",
          "checksum": "822a02776e60b6f7f110525ad5713f72",
          "grade": false,
          "grade_id": "All-HR-Calc",
          "locked": false,
          "schema_version": 3,
          "solution": true,
          "task": false
        },
        "tags": [],
        "id": "TpPAAxRA0J9I"
      },
      "outputs": [],
      "source": [
        "# c) Create a loop over all subjects and repeat the calculation\n",
        "# Accumulate all results in a single array (rows -> 3 phases, colums -> subjects)\n",
        "\n",
        "def heart_rates_calculator():\n",
        "    \"\"\"\n",
        "    Extract the average heartrates of all the test subjects during the 3\n",
        "    specified phases\n",
        "    Each column should represent a different subject\n",
        "    Each row should represent one of the 3 phases\n",
        "\n",
        "    Returns:\n",
        "    Average heart-rates of all subjects in a 3x9 array\n",
        "\n",
        "    \"\"\"\n",
        "    all_heart_rates = []\n",
        "    # YOUR CODE HERE\n",
        "    raise NotImplementedError()\n",
        "\n"
      ]
    },
    {
      "cell_type": "code",
      "execution_count": null,
      "metadata": {
        "deletable": false,
        "editable": false,
        "nbgrader": {
          "cell_type": "code",
          "checksum": "c6ad800b53fe893cf7a692e78f95d32f",
          "grade": true,
          "grade_id": "All-HR-Calc-tests",
          "locked": true,
          "points": 6,
          "schema_version": 3,
          "solution": false,
          "task": false
        },
        "tags": [],
        "id": "4WoWhwKN0J9I"
      },
      "outputs": [],
      "source": [
        "##~DO NOT MODIFY THE LINES OF CODE IN THIS BLOCK\n",
        "#Test your heart_rates_calculator function implementation here\n",
        "all_heart_rates = heart_rates_calculator()\n",
        "print(all_heart_rates)\n",
        "\n",
        "\n",
        "#Test your outputs\n",
        "\n",
        "### BEGIN TESTS\n",
        "assert np.trunc(all_heart_rates[0,8])==78, f\"The output calculated does not match the desired results\"\n",
        "assert np.trunc(all_heart_rates[1,2])==81, f\"The output calculated does not match the desired results\"\n",
        "assert np.trunc(all_heart_rates[2,3])==68, f\"The output calculated does not match the desired results\"\n",
        "assert np.trunc(all_heart_rates[2,5])==77, f\"The output calculated does not match the desired results\"\n",
        "\n",
        "### END TESTS\n",
        "\n"
      ]
    },
    {
      "cell_type": "code",
      "execution_count": null,
      "metadata": {
        "id": "ZUTaeqDl0J9I"
      },
      "outputs": [],
      "source": [
        "# d) You can visualize your previous results in boxplots with the following code\n",
        "rel_heart_rate = all_heart_rates/all_heart_rates[0]\n",
        "rates_df = pd.DataFrame(rel_heart_rate.T * 100)\n",
        "rates_df.columns = ['p1', 'p2', 'p3']\n",
        "\n",
        "fig, (ax1, ax2) = plt.subplots(ncols=2, sharey=True, figsize=(12, 5))\n",
        "rates_df.plot.box(ax=ax1)\n",
        "ax1.set_title('Average heart rates over all subjects')\n",
        "ax1.set_ylabel('relative heartrate [%]')\n",
        "ax1.set_xlabel('CFT phases')\n",
        "\n",
        "rates_df.T.plot.line(style='-o', legend=False, ax=ax2)\n",
        "ax2.set_title('Heart Rates of individual subjects')\n",
        "ax2.set_xlabel('CFT phases')\n",
        "\n",
        "plt.tight_layout()\n"
      ]
    },
    {
      "cell_type": "code",
      "execution_count": null,
      "metadata": {
        "id": "Z-W4jlqj0J9J"
      },
      "outputs": [],
      "source": []
    },
    {
      "cell_type": "code",
      "execution_count": null,
      "metadata": {
        "id": "g8Lnasid0J9J"
      },
      "outputs": [],
      "source": []
    }
  ],
  "metadata": {
    "kernelspec": {
      "display_name": "Python 3 (ipykernel)",
      "language": "python",
      "name": "python3"
    },
    "language_info": {
      "codemirror_mode": {
        "name": "ipython",
        "version": 3
      },
      "file_extension": ".py",
      "mimetype": "text/x-python",
      "name": "python",
      "nbconvert_exporter": "python",
      "pygments_lexer": "ipython3",
      "version": "3.8.8"
    },
    "colab": {
      "provenance": [],
      "include_colab_link": true
    }
  },
  "nbformat": 4,
  "nbformat_minor": 0
}